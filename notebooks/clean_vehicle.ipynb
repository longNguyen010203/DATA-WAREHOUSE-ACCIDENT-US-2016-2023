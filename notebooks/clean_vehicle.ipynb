{
 "cells": [
  {
   "cell_type": "code",
   "execution_count": 1,
   "metadata": {},
   "outputs": [],
   "source": [
    "from datetime import datetime\n",
    "from pyspark.sql import SparkSession, DataFrame\n",
    "import pyspark.sql.types as T\n",
    "import pyspark.sql.functions as F"
   ]
  },
  {
   "cell_type": "code",
   "execution_count": 2,
   "metadata": {},
   "outputs": [
    {
     "name": "stderr",
     "output_type": "stream",
     "text": [
      "Setting default log level to \"WARN\".\n",
      "To adjust logging level use sc.setLogLevel(newLevel). For SparkR, use setLogLevel(newLevel).\n",
      "24/12/10 18:15:27 WARN NativeCodeLoader: Unable to load native-hadoop library for your platform... using builtin-java classes where applicable\n"
     ]
    }
   ],
   "source": [
    "spark: SparkSession = SparkSession.builder.appName(\"Clean-Vehicle-{}\".format(datetime.today())).master(\"local[*]\").getOrCreate()"
   ]
  },
  {
   "cell_type": "code",
   "execution_count": 17,
   "metadata": {},
   "outputs": [
    {
     "data": {
      "text/html": [
       "\n",
       "            <div>\n",
       "                <p><b>SparkSession - in-memory</b></p>\n",
       "                \n",
       "        <div>\n",
       "            <p><b>SparkContext</b></p>\n",
       "\n",
       "            <p><a href=\"http://longdata-dev-203:4041\">Spark UI</a></p>\n",
       "\n",
       "            <dl>\n",
       "              <dt>Version</dt>\n",
       "                <dd><code>v3.5.0</code></dd>\n",
       "              <dt>Master</dt>\n",
       "                <dd><code>local[*]</code></dd>\n",
       "              <dt>AppName</dt>\n",
       "                <dd><code>Clean-Vehicle-2024-12-08 22:58:10.839243</code></dd>\n",
       "            </dl>\n",
       "        </div>\n",
       "        \n",
       "            </div>\n",
       "        "
      ],
      "text/plain": [
       "<pyspark.sql.session.SparkSession at 0x75e35e6d7210>"
      ]
     },
     "execution_count": 17,
     "metadata": {},
     "output_type": "execute_result"
    }
   ],
   "source": [
    "spark"
   ]
  },
  {
   "cell_type": "code",
   "execution_count": 3,
   "metadata": {},
   "outputs": [
    {
     "name": "stderr",
     "output_type": "stream",
     "text": [
      "                                                                                \r"
     ]
    }
   ],
   "source": [
    "URL=\"./data/raw/Vehicle_Information.csv\"\n",
    "df = spark.read.csv(URL, header=True, inferSchema=True)"
   ]
  },
  {
   "cell_type": "code",
   "execution_count": 29,
   "metadata": {},
   "outputs": [
    {
     "name": "stdout",
     "output_type": "stream",
     "text": [
      "+--------------+--------------------+--------------+---------------------+-----------------+--------------------+-------------------------+--------------------------+-------------------------+--------------------+----------------+--------------------+---------------+-------------+------------------------+-----------------------+---------------------------+--------------------------------+--------------------+-----------------+--------------------+---------------------------+--------------------+----+\n",
      "|Accident_Index|  Age_Band_of_Driver|Age_of_Vehicle|Driver_Home_Area_Type|Driver_IMD_Decile|Engine_Capacity_.CC.|Hit_Object_in_Carriageway|Hit_Object_off_Carriageway|Journey_Purpose_of_Driver|   Junction_Location|            make|               model|Propulsion_Code|Sex_of_Driver|Skidding_and_Overturning|Towing_and_Articulation|Vehicle_Leaving_Carriageway|Vehicle_Location.Restricted_Lane|   Vehicle_Manoeuvre|Vehicle_Reference|        Vehicle_Type|Was_Vehicle_Left_Hand_Drive|X1st_Point_of_Impact|Year|\n",
      "+--------------+--------------------+--------------+---------------------+-----------------+--------------------+-------------------------+--------------------------+-------------------------+--------------------+----------------+--------------------+---------------+-------------+------------------------+-----------------------+---------------------------+--------------------------------+--------------------+-----------------+--------------------+---------------------------+--------------------+----+\n",
      "| 200401BS00001|             26 - 35|             3|           Urban area|                4|                1588|                     None|                      None|     Data missing or o...|Data missing or o...|           ROVER|      45 CLASSIC 16V|         Petrol|         Male|                    None|    No tow/articulation|       Did not leave car...|                               0|   Going ahead other|                2|                 109|       Data missing or o...|               Front|2004|\n",
      "| 200401BS00002|             26 - 35|            NA|           Urban area|                3|                  NA|                     None|                      None|     Data missing or o...|Data missing or o...|             BMW|                  C1|             NA|         Male|                    None|    No tow/articulation|       Did not leave car...|                               0|   Going ahead other|                1|                 109|       Data missing or o...|               Front|2004|\n",
      "| 200401BS00003|             26 - 35|             4| Data missing or o...|               NA|                 998|                     None|                      None|     Data missing or o...|Data missing or o...|          NISSAN|MICRA CELEBRATION...|         Petrol|         Male|                    None|    No tow/articulation|       Did not leave car...|                               0|       Turning right|                1|                 109|       Data missing or o...|               Front|2004|\n",
      "| 200401BS00003|             66 - 75|            NA| Data missing or o...|               NA|                  NA|                     None|                      None|     Data missing or o...|Data missing or o...|LONDON TAXIS INT|      TXII GOLD AUTO|             NA|         Male|                    None|    No tow/articulation|       Did not leave car...|                               0|   Going ahead other|                2|                 109|       Data missing or o...|               Front|2004|\n",
      "| 200401BS00004|             26 - 35|             1|           Urban area|                4|                 124|                     None|                      None|     Data missing or o...|Data missing or o...|         PIAGGIO|           VESPA ET4|         Petrol|         Male|                    None|    No tow/articulation|       Did not leave car...|                               0|   Going ahead other|                1|Motorcycle 125cc ...|       Data missing or o...|               Front|2004|\n",
      "| 200401BS00004|             36 - 45|            10| Data missing or o...|               NA|                1781|                     None|                      None|     Data missing or o...|Data missing or o...|      VOLKSWAGEN|                NULL|         Petrol|         Male|                    None|    No tow/articulation|       Did not leave car...|                               0|              U-turn|                2|                 109|       Data missing or o...|             Offside|2004|\n",
      "| 200401BS00009|             26 - 35|            NA|           Urban area|                4|                  NA|                     None|                      None|     Data missing or o...|Data missing or o...|         PIAGGIO|        VESPA GT 125|             NA|         Male|                 Skidded|    No tow/articulation|       Did not leave car...|                               0|   Going ahead other|                1|Motorcycle 125cc ...|       Data missing or o...|      Did not impact|2004|\n",
      "| 200401BS00010|             36 - 45|            NA|           Urban area|                8|                  NA|                     None|                      None|     Data missing or o...|Data missing or o...|             BMW|            R1100 RT|             NA|         Male|                    None|    No tow/articulation|       Did not leave car...|                               0|       Turning right|                1|                 109|       Data missing or o...|               Front|2004|\n",
      "| 200401BS00012|             46 - 55|             3| Data missing or o...|               NA|                2685|                     None|                      None|     Data missing or o...|Data missing or o...|        MERCEDES|                NULL|      Heavy oil|         Male|                    None|    No tow/articulation|       Did not leave car...|                               0| Slowing or stopping|                1|                 109|       Data missing or o...|                Back|2004|\n",
      "| 200401BS00013|             26 - 35|             4|           Urban area|                6|                2300|                     None|                      None|     Data missing or o...|Data missing or o...|      VOLKSWAGEN|             GOLF V5|         Petrol|       Female|                    None|    No tow/articulation|       Did not leave car...|                               0|       Turning right|                1|                 109|       Data missing or o...|             Offside|2004|\n",
      "| 200401BS00013|             21 - 25|             3|           Urban area|                8|                2402|                     None|                      None|     Data missing or o...|Data missing or o...|            FORD|  TRANSIT 350 LWB TD|      Heavy oil|         Male|                    None|    No tow/articulation|       Did not leave car...|                               0|Going ahead right...|                2|Van / Goods 3.5 t...|       Data missing or o...|               Front|2004|\n",
      "| 200401BS00021|             36 - 45|             2| Data missing or o...|               NA|                8268|                     None|                      None|     Data missing or o...|Data missing or o...|          DENNIS|                NULL|      Heavy oil|         Male|                    None|    No tow/articulation|       Did not leave car...|                               0|   Going ahead other|                2|Bus or coach (17 ...|       Data missing or o...|            Nearside|2004|\n",
      "| 200401BS00022|             36 - 45|            11| Data missing or o...|               NA|                1998|                     None|                      None|     Data missing or o...|Data missing or o...|        VAUXHALL|    CAVALIER LS AUTO|         Petrol|         Male|                    None|    No tow/articulation|       Did not leave car...|                               0|   Going ahead other|                1|                 109|       Data missing or o...|               Front|2004|\n",
      "| 200401BS00028|Data missing or o...|             6| Data missing or o...|               NA|                  NA|                     None|                      None|     Data missing or o...|Data missing or o...|          DENNIS|                NULL|      Heavy oil|    Not known|                    None|    No tow/articulation|       Did not leave car...|                               0|          Moving off|                1|Bus or coach (17 ...|       Data missing or o...|            Nearside|2004|\n",
      "| 200401BS00030|Data missing or o...|             1|           Urban area|               10|                6370|                     None|                      None|     Data missing or o...|Data missing or o...|        MERCEDES|                NULL|      Heavy oil|         Male|                    None|    No tow/articulation|       Did not leave car...|                               0|   Going ahead other|                2|Goods 7.5 tonnes ...|       Data missing or o...|               Front|2004|\n",
      "| 200401BS00033|Data missing or o...|            NA| Data missing or o...|               NA|                  NA|                     None|                      None|     Data missing or o...|Data missing or o...|             MAN|                NULL|             NA|    Not known|                    None|    No tow/articulation|       Did not leave car...|                               0|   Going ahead other|                2|Goods 7.5 tonnes ...|       Data missing or o...|            Nearside|2004|\n",
      "| 200401BS00038|             26 - 35|             6|           Urban area|                8|                1984|                     None|                      None|     Data missing or o...|Data missing or o...|      VOLKSWAGEN|        GOLF GL AUTO|         Petrol|         Male|                    None|    No tow/articulation|       Did not leave car...|                               0|       Turning right|                2|                 109|       Data missing or o...|               Front|2004|\n",
      "| 200401BS00041|             16 - 20|            NA|           Urban area|                7|                  NA|                     None|                      None|     Data missing or o...|Data missing or o...|         PIAGGIO|           VESPA ET4|             NA|         Male|                    None|    No tow/articulation|       Did not leave car...|                               0|   Going ahead other|                1|Motorcycle 125cc ...|       Data missing or o...|Data missing or o...|2004|\n",
      "| 200401BS00044|Data missing or o...|             6|           Urban area|                5|                2664|                     None|                      None|     Data missing or o...|Data missing or o...|LONDON TAXIS INT|     TX1 BRONZE AUTO|      Heavy oil|       Female|                    None|    No tow/articulation|       Did not leave car...|                               0|          Moving off|                2|                 108|       Data missing or o...|             Offside|2004|\n",
      "| 200401BS00045|             36 - 45|             2| Data missing or o...|               NA|                2979|                     None|                      None|     Data missing or o...|Data missing or o...|             BMW|   330 CI SPORT AUTO|         Petrol|         Male|                    None|    No tow/articulation|       Did not leave car...|                               0|Waiting to go - h...|                1|                 109|       Data missing or o...|                Back|2004|\n",
      "+--------------+--------------------+--------------+---------------------+-----------------+--------------------+-------------------------+--------------------------+-------------------------+--------------------+----------------+--------------------+---------------+-------------+------------------------+-----------------------+---------------------------+--------------------------------+--------------------+-----------------+--------------------+---------------------------+--------------------+----+\n",
      "only showing top 20 rows\n",
      "\n"
     ]
    }
   ],
   "source": [
    "df.show(20)"
   ]
  },
  {
   "cell_type": "code",
   "execution_count": 30,
   "metadata": {},
   "outputs": [
    {
     "name": "stdout",
     "output_type": "stream",
     "text": [
      "2177205 24\n"
     ]
    }
   ],
   "source": [
    "print(df.count(), len(df.columns))"
   ]
  },
  {
   "cell_type": "code",
   "execution_count": 31,
   "metadata": {},
   "outputs": [
    {
     "name": "stdout",
     "output_type": "stream",
     "text": [
      "root\n",
      " |-- Accident_Index: string (nullable = true)\n",
      " |-- Age_Band_of_Driver: string (nullable = true)\n",
      " |-- Age_of_Vehicle: string (nullable = true)\n",
      " |-- Driver_Home_Area_Type: string (nullable = true)\n",
      " |-- Driver_IMD_Decile: string (nullable = true)\n",
      " |-- Engine_Capacity_.CC.: string (nullable = true)\n",
      " |-- Hit_Object_in_Carriageway: string (nullable = true)\n",
      " |-- Hit_Object_off_Carriageway: string (nullable = true)\n",
      " |-- Journey_Purpose_of_Driver: string (nullable = true)\n",
      " |-- Junction_Location: string (nullable = true)\n",
      " |-- make: string (nullable = true)\n",
      " |-- model: string (nullable = true)\n",
      " |-- Propulsion_Code: string (nullable = true)\n",
      " |-- Sex_of_Driver: string (nullable = true)\n",
      " |-- Skidding_and_Overturning: string (nullable = true)\n",
      " |-- Towing_and_Articulation: string (nullable = true)\n",
      " |-- Vehicle_Leaving_Carriageway: string (nullable = true)\n",
      " |-- Vehicle_Location.Restricted_Lane: string (nullable = true)\n",
      " |-- Vehicle_Manoeuvre: string (nullable = true)\n",
      " |-- Vehicle_Reference: integer (nullable = true)\n",
      " |-- Vehicle_Type: string (nullable = true)\n",
      " |-- Was_Vehicle_Left_Hand_Drive: string (nullable = true)\n",
      " |-- X1st_Point_of_Impact: string (nullable = true)\n",
      " |-- Year: integer (nullable = true)\n",
      "\n"
     ]
    }
   ],
   "source": [
    "df.printSchema()"
   ]
  },
  {
   "cell_type": "code",
   "execution_count": 4,
   "metadata": {},
   "outputs": [],
   "source": [
    "df = df.withColumnRenamed(\"Engine_Capacity_.CC.\", \"Engine_Capacity_CC\")\n",
    "df = df.withColumnRenamed(\"Vehicle_Location.Restricted_Lane\", \"Vehicle_Location_Restricted_Lane\")"
   ]
  },
  {
   "cell_type": "code",
   "execution_count": 33,
   "metadata": {},
   "outputs": [
    {
     "name": "stderr",
     "output_type": "stream",
     "text": [
      "[Stage 19:>                                                       (0 + 12) / 12]\r"
     ]
    },
    {
     "name": "stdout",
     "output_type": "stream",
     "text": [
      "+--------------+------------------+--------------+---------------------+-----------------+------------------+-------------------------+--------------------------+-------------------------+-----------------+----+------+---------------+-------------+------------------------+-----------------------+---------------------------+--------------------------------+-----------------+-----------------+------------+---------------------------+--------------------+----+\n",
      "|Accident_Index|Age_Band_of_Driver|Age_of_Vehicle|Driver_Home_Area_Type|Driver_IMD_Decile|Engine_Capacity_CC|Hit_Object_in_Carriageway|Hit_Object_off_Carriageway|Journey_Purpose_of_Driver|Junction_Location|make| model|Propulsion_Code|Sex_of_Driver|Skidding_and_Overturning|Towing_and_Articulation|Vehicle_Leaving_Carriageway|Vehicle_Location_Restricted_Lane|Vehicle_Manoeuvre|Vehicle_Reference|Vehicle_Type|Was_Vehicle_Left_Hand_Drive|X1st_Point_of_Impact|Year|\n",
      "+--------------+------------------+--------------+---------------------+-----------------+------------------+-------------------------+--------------------------+-------------------------+-----------------+----+------+---------------+-------------+------------------------+-----------------------+---------------------------+--------------------------------+-----------------+-----------------+------------+---------------------------+--------------------+----+\n",
      "|             0|                 0|             0|                    0|                0|                 0|                        0|                         0|                        0|                0|   0|214486|              0|            0|                       0|                      0|                          0|                               0|                0|                0|           0|                          0|                   0|   0|\n",
      "+--------------+------------------+--------------+---------------------+-----------------+------------------+-------------------------+--------------------------+-------------------------+-----------------+----+------+---------------+-------------+------------------------+-----------------------+---------------------------+--------------------------------+-----------------+-----------------+------------+---------------------------+--------------------+----+\n",
      "\n"
     ]
    },
    {
     "name": "stderr",
     "output_type": "stream",
     "text": [
      "                                                                                \r"
     ]
    }
   ],
   "source": [
    "# Check for missing values ​​on each column\n",
    "df.select([F.sum(F.when(F.col(c).isNull(), 1).otherwise(0)).alias(c) for c in df.columns]).show()"
   ]
  },
  {
   "cell_type": "code",
   "execution_count": 5,
   "metadata": {},
   "outputs": [],
   "source": [
    "df = df.fillna({\"model\": \"Unknown\"})"
   ]
  },
  {
   "cell_type": "code",
   "execution_count": 35,
   "metadata": {},
   "outputs": [
    {
     "name": "stderr",
     "output_type": "stream",
     "text": [
      "[Stage 22:>                                                       (0 + 12) / 12]\r"
     ]
    },
    {
     "name": "stdout",
     "output_type": "stream",
     "text": [
      "+--------------+------------------+--------------+---------------------+-----------------+------------------+-------------------------+--------------------------+-------------------------+-----------------+----+-----+---------------+-------------+------------------------+-----------------------+---------------------------+--------------------------------+-----------------+-----------------+------------+---------------------------+--------------------+----+\n",
      "|Accident_Index|Age_Band_of_Driver|Age_of_Vehicle|Driver_Home_Area_Type|Driver_IMD_Decile|Engine_Capacity_CC|Hit_Object_in_Carriageway|Hit_Object_off_Carriageway|Journey_Purpose_of_Driver|Junction_Location|make|model|Propulsion_Code|Sex_of_Driver|Skidding_and_Overturning|Towing_and_Articulation|Vehicle_Leaving_Carriageway|Vehicle_Location_Restricted_Lane|Vehicle_Manoeuvre|Vehicle_Reference|Vehicle_Type|Was_Vehicle_Left_Hand_Drive|X1st_Point_of_Impact|Year|\n",
      "+--------------+------------------+--------------+---------------------+-----------------+------------------+-------------------------+--------------------------+-------------------------+-----------------+----+-----+---------------+-------------+------------------------+-----------------------+---------------------------+--------------------------------+-----------------+-----------------+------------+---------------------------+--------------------+----+\n",
      "|             0|                 0|             0|                    0|                0|                 0|                        0|                         0|                        0|                0|   0|    0|              0|            0|                       0|                      0|                          0|                               0|                0|                0|           0|                          0|                   0|   0|\n",
      "+--------------+------------------+--------------+---------------------+-----------------+------------------+-------------------------+--------------------------+-------------------------+-----------------+----+-----+---------------+-------------+------------------------+-----------------------+---------------------------+--------------------------------+-----------------+-----------------+------------+---------------------------+--------------------+----+\n",
      "\n"
     ]
    },
    {
     "name": "stderr",
     "output_type": "stream",
     "text": [
      "                                                                                \r"
     ]
    }
   ],
   "source": [
    "df.select([F.sum(F.when(F.col(c).isNull(), 1).otherwise(0)).alias(c) for c in df.columns]).show()"
   ]
  },
  {
   "cell_type": "code",
   "execution_count": 6,
   "metadata": {},
   "outputs": [],
   "source": [
    "df = df.dropDuplicates()"
   ]
  },
  {
   "cell_type": "code",
   "execution_count": 7,
   "metadata": {},
   "outputs": [
    {
     "name": "stderr",
     "output_type": "stream",
     "text": [
      "24/12/10 18:16:23 WARN RowBasedKeyValueBatch: Calling spill() on RowBasedKeyValueBatch. Will not spill but return 0.\n",
      "24/12/10 18:16:23 WARN RowBasedKeyValueBatch: Calling spill() on RowBasedKeyValueBatch. Will not spill but return 0.\n",
      "24/12/10 18:16:23 WARN RowBasedKeyValueBatch: Calling spill() on RowBasedKeyValueBatch. Will not spill but return 0.\n",
      "24/12/10 18:16:23 WARN RowBasedKeyValueBatch: Calling spill() on RowBasedKeyValueBatch. Will not spill but return 0.\n",
      "24/12/10 18:16:23 WARN RowBasedKeyValueBatch: Calling spill() on RowBasedKeyValueBatch. Will not spill but return 0.\n",
      "24/12/10 18:16:23 WARN RowBasedKeyValueBatch: Calling spill() on RowBasedKeyValueBatch. Will not spill but return 0.\n",
      "24/12/10 18:16:23 WARN RowBasedKeyValueBatch: Calling spill() on RowBasedKeyValueBatch. Will not spill but return 0.\n",
      "24/12/10 18:16:23 WARN RowBasedKeyValueBatch: Calling spill() on RowBasedKeyValueBatch. Will not spill but return 0.\n",
      "24/12/10 18:16:23 WARN RowBasedKeyValueBatch: Calling spill() on RowBasedKeyValueBatch. Will not spill but return 0.\n",
      "24/12/10 18:16:23 WARN RowBasedKeyValueBatch: Calling spill() on RowBasedKeyValueBatch. Will not spill but return 0.\n",
      "24/12/10 18:16:23 WARN RowBasedKeyValueBatch: Calling spill() on RowBasedKeyValueBatch. Will not spill but return 0.\n",
      "24/12/10 18:16:23 WARN RowBasedKeyValueBatch: Calling spill() on RowBasedKeyValueBatch. Will not spill but return 0.\n",
      "24/12/10 18:16:23 WARN RowBasedKeyValueBatch: Calling spill() on RowBasedKeyValueBatch. Will not spill but return 0.\n",
      "24/12/10 18:16:23 WARN RowBasedKeyValueBatch: Calling spill() on RowBasedKeyValueBatch. Will not spill but return 0.\n",
      "24/12/10 18:16:23 WARN RowBasedKeyValueBatch: Calling spill() on RowBasedKeyValueBatch. Will not spill but return 0.\n",
      "24/12/10 18:16:23 WARN RowBasedKeyValueBatch: Calling spill() on RowBasedKeyValueBatch. Will not spill but return 0.\n",
      "24/12/10 18:16:23 WARN RowBasedKeyValueBatch: Calling spill() on RowBasedKeyValueBatch. Will not spill but return 0.\n",
      "24/12/10 18:16:23 WARN RowBasedKeyValueBatch: Calling spill() on RowBasedKeyValueBatch. Will not spill but return 0.\n",
      "24/12/10 18:16:23 WARN RowBasedKeyValueBatch: Calling spill() on RowBasedKeyValueBatch. Will not spill but return 0.\n",
      "24/12/10 18:16:23 WARN RowBasedKeyValueBatch: Calling spill() on RowBasedKeyValueBatch. Will not spill but return 0.\n",
      "24/12/10 18:16:23 WARN RowBasedKeyValueBatch: Calling spill() on RowBasedKeyValueBatch. Will not spill but return 0.\n",
      "24/12/10 18:16:23 WARN RowBasedKeyValueBatch: Calling spill() on RowBasedKeyValueBatch. Will not spill but return 0.\n",
      "24/12/10 18:16:23 WARN RowBasedKeyValueBatch: Calling spill() on RowBasedKeyValueBatch. Will not spill but return 0.\n",
      "24/12/10 18:16:23 WARN RowBasedKeyValueBatch: Calling spill() on RowBasedKeyValueBatch. Will not spill but return 0.\n",
      "24/12/10 18:16:25 WARN RowBasedKeyValueBatch: Calling spill() on RowBasedKeyValueBatch. Will not spill but return 0.\n",
      "24/12/10 18:16:25 WARN RowBasedKeyValueBatch: Calling spill() on RowBasedKeyValueBatch. Will not spill but return 0.\n",
      "24/12/10 18:16:25 WARN RowBasedKeyValueBatch: Calling spill() on RowBasedKeyValueBatch. Will not spill but return 0.\n",
      "24/12/10 18:16:25 WARN RowBasedKeyValueBatch: Calling spill() on RowBasedKeyValueBatch. Will not spill but return 0.\n",
      "24/12/10 18:16:25 WARN RowBasedKeyValueBatch: Calling spill() on RowBasedKeyValueBatch. Will not spill but return 0.\n",
      "24/12/10 18:16:25 WARN RowBasedKeyValueBatch: Calling spill() on RowBasedKeyValueBatch. Will not spill but return 0.\n",
      "24/12/10 18:16:25 WARN RowBasedKeyValueBatch: Calling spill() on RowBasedKeyValueBatch. Will not spill but return 0.\n",
      "24/12/10 18:16:25 WARN RowBasedKeyValueBatch: Calling spill() on RowBasedKeyValueBatch. Will not spill but return 0.\n",
      "24/12/10 18:16:25 WARN RowBasedKeyValueBatch: Calling spill() on RowBasedKeyValueBatch. Will not spill but return 0.\n",
      "24/12/10 18:16:25 WARN RowBasedKeyValueBatch: Calling spill() on RowBasedKeyValueBatch. Will not spill but return 0.\n",
      "24/12/10 18:16:25 WARN RowBasedKeyValueBatch: Calling spill() on RowBasedKeyValueBatch. Will not spill but return 0.\n",
      "24/12/10 18:16:25 WARN RowBasedKeyValueBatch: Calling spill() on RowBasedKeyValueBatch. Will not spill but return 0.\n",
      "24/12/10 18:16:25 WARN RowBasedKeyValueBatch: Calling spill() on RowBasedKeyValueBatch. Will not spill but return 0.\n",
      "24/12/10 18:16:25 WARN RowBasedKeyValueBatch: Calling spill() on RowBasedKeyValueBatch. Will not spill but return 0.\n",
      "24/12/10 18:16:25 WARN RowBasedKeyValueBatch: Calling spill() on RowBasedKeyValueBatch. Will not spill but return 0.\n",
      "24/12/10 18:16:25 WARN RowBasedKeyValueBatch: Calling spill() on RowBasedKeyValueBatch. Will not spill but return 0.\n",
      "24/12/10 18:16:25 WARN RowBasedKeyValueBatch: Calling spill() on RowBasedKeyValueBatch. Will not spill but return 0.\n",
      "24/12/10 18:16:25 WARN RowBasedKeyValueBatch: Calling spill() on RowBasedKeyValueBatch. Will not spill but return 0.\n",
      "24/12/10 18:16:25 WARN RowBasedKeyValueBatch: Calling spill() on RowBasedKeyValueBatch. Will not spill but return 0.\n",
      "24/12/10 18:16:25 WARN RowBasedKeyValueBatch: Calling spill() on RowBasedKeyValueBatch. Will not spill but return 0.\n",
      "24/12/10 18:16:25 WARN RowBasedKeyValueBatch: Calling spill() on RowBasedKeyValueBatch. Will not spill but return 0.\n",
      "24/12/10 18:16:25 WARN RowBasedKeyValueBatch: Calling spill() on RowBasedKeyValueBatch. Will not spill but return 0.\n",
      "24/12/10 18:16:25 WARN RowBasedKeyValueBatch: Calling spill() on RowBasedKeyValueBatch. Will not spill but return 0.\n",
      "24/12/10 18:16:25 WARN RowBasedKeyValueBatch: Calling spill() on RowBasedKeyValueBatch. Will not spill but return 0.\n",
      "                                                                                \r"
     ]
    }
   ],
   "source": [
    "df.coalesce(1).write.csv(\"/home/longnguyen/Documents/Coding/Fresher-Data-Engineer/DATA-WAREHOUSE-ACCIDENT-US-2016-2023/data/cleaned/Vehicle_Information_Cleaned.csv\")"
   ]
  }
 ],
 "metadata": {
  "kernelspec": {
   "display_name": ".dwa-venv",
   "language": "python",
   "name": "python3"
  },
  "language_info": {
   "codemirror_mode": {
    "name": "ipython",
    "version": 3
   },
   "file_extension": ".py",
   "mimetype": "text/x-python",
   "name": "python",
   "nbconvert_exporter": "python",
   "pygments_lexer": "ipython3",
   "version": "3.11.6"
  }
 },
 "nbformat": 4,
 "nbformat_minor": 2
}
