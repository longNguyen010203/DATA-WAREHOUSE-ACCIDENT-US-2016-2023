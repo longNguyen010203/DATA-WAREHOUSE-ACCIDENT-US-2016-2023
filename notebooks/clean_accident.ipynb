{
 "cells": [
  {
   "cell_type": "code",
   "execution_count": 1,
   "metadata": {},
   "outputs": [],
   "source": [
    "import pandas as pd\n",
    "from datetime import datetime\n",
    "from pyspark.sql import SparkSession, DataFrame\n",
    "import pyspark.sql.types as T\n",
    "import pyspark.sql.functions as F\n",
    "\n",
    "import matplotlib.pyplot as plt\n",
    "import seaborn as sns\n",
    "import random"
   ]
  },
  {
   "cell_type": "code",
   "execution_count": 2,
   "metadata": {},
   "outputs": [
    {
     "name": "stderr",
     "output_type": "stream",
     "text": [
      "Setting default log level to \"WARN\".\n",
      "To adjust logging level use sc.setLogLevel(newLevel). For SparkR, use setLogLevel(newLevel).\n",
      "24/12/10 18:06:58 WARN NativeCodeLoader: Unable to load native-hadoop library for your platform... using builtin-java classes where applicable\n"
     ]
    }
   ],
   "source": [
    "spark: SparkSession = SparkSession.builder.appName(\"Clean-Accident-{}\".format(datetime.today())).master(\"local[*]\").getOrCreate()"
   ]
  },
  {
   "cell_type": "code",
   "execution_count": 3,
   "metadata": {},
   "outputs": [
    {
     "name": "stderr",
     "output_type": "stream",
     "text": [
      "                                                                                \r"
     ]
    }
   ],
   "source": [
    "URL=\"./data/raw/US_Accidents_March23.csv\"\n",
    "df = spark.read.csv(URL, header=True, inferSchema=True)"
   ]
  },
  {
   "cell_type": "code",
   "execution_count": 5,
   "metadata": {},
   "outputs": [
    {
     "name": "stderr",
     "output_type": "stream",
     "text": [
      "24/12/10 14:42:30 WARN SparkStringUtils: Truncated the string representation of a plan since it was too large. This behavior can be adjusted by setting 'spark.sql.debug.maxToStringFields'.\n"
     ]
    },
    {
     "name": "stdout",
     "output_type": "stream",
     "text": [
      "+---------+-------+--------+-------------------+-------------------+---------+------------------+--------+---------+------------------+--------------------+---------------+----------+----------+-----+----------+-------+----------+------------+-------------------+--------------+-------------+-----------+------------+--------------+--------------+---------------+-----------------+-----------------+-------+-----+--------+--------+--------+-------+-------+----------+-------+-----+---------------+--------------+------------+--------------+--------------+-----------------+---------------------+--------------+\n",
      "|       ID| Source|Severity|         Start_Time|           End_Time|Start_Lat|         Start_Lng| End_Lat|  End_Lng|      Distance(mi)|         Description|         Street|      City|    County|State|   Zipcode|Country|  Timezone|Airport_Code|  Weather_Timestamp|Temperature(F)|Wind_Chill(F)|Humidity(%)|Pressure(in)|Visibility(mi)|Wind_Direction|Wind_Speed(mph)|Precipitation(in)|Weather_Condition|Amenity| Bump|Crossing|Give_Way|Junction|No_Exit|Railway|Roundabout|Station| Stop|Traffic_Calming|Traffic_Signal|Turning_Loop|Sunrise_Sunset|Civil_Twilight|Nautical_Twilight|Astronomical_Twilight|Accident_Index|\n",
      "+---------+-------+--------+-------------------+-------------------+---------+------------------+--------+---------+------------------+--------------------+---------------+----------+----------+-----+----------+-------+----------+------------+-------------------+--------------+-------------+-----------+------------+--------------+--------------+---------------+-----------------+-----------------+-------+-----+--------+--------+--------+-------+-------+----------+-------+-----+---------------+--------------+------------+--------------+--------------+-----------------+---------------------+--------------+\n",
      "|A-3412645|Source1|       3|2016-02-08 00:37:08|2016-02-08 06:37:08| 40.10891|         -83.09286|40.11206|-83.03187|              3.23|Between Sawmill R...|    Outerbelt E|    Dublin|  Franklin|   OH|     43017|     US|US/Eastern|        KOSU|2016-02-08 00:53:00|          42.1|         36.1|       58.0|       29.76|          10.0|            SW|           10.4|              0.0|       Light Rain|  false|false|   false|   false|   false|  false|  false|     false|  false|false|          false|         false|       false|         Night|         Night|            Night|                Night| 200401BS00198|\n",
      "|A-3412664|Source1|       2|2016-02-08 19:47:42|2016-02-09 01:47:42|  39.9838|-82.85656999999998| 39.9725|-82.84746|             0.918|At I-270 - Accident.|    Outerbelt S|  Columbus|  Franklin|   OH|     43213|     US|US/Eastern|        KCMH|2016-02-08 19:51:00|          34.0|         NULL|      100.0|       29.65|           6.0|          Calm|           NULL|             0.07|         Overcast|  false|false|   false|   false|   false|  false|  false|     false|  false|false|          false|         false|       false|         Night|         Night|            Night|                Night| 200401FH00691|\n",
      "|A-3412671|Source1|       2|2016-02-09 06:46:32|2016-02-09 12:46:32| 39.15267|          -84.5395|39.14745|-84.53923|             0.361|At I-74/US-52/US-...|         I-75 S|Cincinnati|  Hamilton|   OH|     45223|     US|US/Eastern|        KLUK|2016-02-09 06:53:00|          21.0|          9.3|       88.0|       29.78|           1.5|           WSW|           11.5|             0.01|       Light Snow|  false|false|   false|   false|   false|  false|  false|     false|  false|false|          false|         false|       false|         Night|         Night|              Day|                  Day| 200401JC00177|\n",
      "|A-3412674|Source1|       2|2016-02-09 07:25:40|2016-02-09 13:25:40| 39.97643|         -83.12306|39.97609|-83.11068|0.6559999999999999|At I-270/Exit 93 ...|         I-70 E|  Columbus|  Franklin|   OH|     43228|     US|US/Eastern|        KTZR|2016-02-09 07:20:00|          21.2|          8.3|       93.0|       29.66|           1.5|           WSW|           13.8|             NULL|       Light Snow|  false|false|   false|   false|   false|  false|  false|     false|  false|false|          false|         false|       false|         Night|           Day|              Day|                  Day| 200446WL02290|\n",
      "|A-3412699|Source1|       3|2016-02-10 08:39:16|2016-02-10 14:39:16| 39.71548|         -84.22033|39.71767|-84.21632|             0.261|At Dryden Rd/Exit...|         I-75 N|    Dayton|Montgomery|   OH|     45439|     US|US/Eastern|        KMGY|2016-02-10 08:33:00|          14.0|          1.2|       80.0|       29.93|           1.5|           WSW|           10.4|              0.0|       Light Snow|  false|false|   false|   false|   false|  false|  false|     false|  false|false|          false|         false|       false|           Day|           Day|              Day|                  Day| 200501BS70506|\n",
      "|A-3412710|Source1|       2|2016-02-10 10:47:49|2016-02-10 16:47:49| 39.93849|         -82.84849|39.89923|-82.90135|             3.899|Between I-70/US-4...|    Outerbelt S|  Columbus|  Franklin|   OH|     43232|     US|US/Eastern|        KCMH|2016-02-10 10:51:00|          17.1|          3.0|       77.0|       29.96|           1.5|          West|           13.8|              0.0|       Light Snow|  false|false|   false|   false|   false|  false|  false|     false|  false|false|          false|         false|       false|           Day|           Day|              Day|                  Day| 200497UD70304|\n",
      "|A-3412757|Source1|       2|2016-02-11 11:58:42|2016-02-11 17:58:42| 39.26566|         -84.43965|39.27422|-84.44023|0.5920000000000001|At Sharon Rd/Exit...|         I-75 N|Cincinnati|  Hamilton|   OH|     45241|     US|US/Eastern|        KHAO|2016-02-11 11:53:00|          21.0|         13.4|       48.0|       30.35|          10.0|          West|            5.8|             NULL|            Clear|  false|false|   false|   false|   false|  false|  false|     false|  false|false|          false|         false|       false|           Day|           Day|              Day|                  Day| 20044200B0272|\n",
      "|A-3412758|Source1|       2|2016-02-11 12:12:31|2016-02-11 18:12:31| 41.46981|         -81.81104| 41.4716|-81.81916|             0.438|At McKinley Ave/E...|Northwest Fwy W|  Lakewood|  Cuyahoga|   OH|     44107|     US|US/Eastern|        KCLE|2016-02-11 11:51:00|          16.0|          2.3|       71.0|       30.26|           2.0|           WNW|           12.7|              0.0|       Light Snow|  false|false|   false|   false|   false|  false|  false|     false|  false|false|          false|         false|       false|           Day|           Day|              Day|                  Day| 2004950007999|\n",
      "|A-3412800|Source1|       3|2016-02-13 18:48:40|2016-02-14 00:48:40| 40.53024|         -80.00957|40.53024|-80.00957|               0.0|At Siebert Rd - A...|    McKnight Rd|Pittsburgh| Allegheny|   PA|15237-3405|     US|US/Eastern|        KPIT|2016-02-13 18:51:00|           7.0|         -7.5|       67.0|        30.5|          10.0|           WNW|           10.4|             NULL| Scattered Clouds|  false|false|    true|   false|   false|  false|  false|     false|   true|false|          false|          true|       false|         Night|         Night|              Day|                  Day| 20043108D4975|\n",
      "|A-3412812|Source1|       4|2016-02-15 03:06:11|2016-02-15 09:06:11| 40.43954|         -80.00971| 40.4342|-79.99635|             0.794|Closed between I-...|   Parkway East|Pittsburgh| Allegheny|   PA|     15222|     US|US/Eastern|        KAGC|2016-02-15 02:53:00|          21.9|         11.7|       63.0|       30.21|          10.0|            SE|            9.2|             NULL|         Overcast|  false|false|   false|   false|    true|  false|  false|     false|  false| true|          false|         false|       false|         Night|         Night|            Night|                Night| 2004123410874|\n",
      "+---------+-------+--------+-------------------+-------------------+---------+------------------+--------+---------+------------------+--------------------+---------------+----------+----------+-----+----------+-------+----------+------------+-------------------+--------------+-------------+-----------+------------+--------------+--------------+---------------+-----------------+-----------------+-------+-----+--------+--------+--------+-------+-------+----------+-------+-----+---------------+--------------+------------+--------------+--------------+-----------------+---------------------+--------------+\n",
      "only showing top 10 rows\n",
      "\n"
     ]
    }
   ],
   "source": [
    "df.show(10)"
   ]
  },
  {
   "cell_type": "code",
   "execution_count": 5,
   "metadata": {},
   "outputs": [
    {
     "name": "stderr",
     "output_type": "stream",
     "text": [
      "[Stage 3:=============================================>           (12 + 3) / 15]\r"
     ]
    },
    {
     "name": "stdout",
     "output_type": "stream",
     "text": [
      "Records: 4325632\n",
      "Columns: 47\n"
     ]
    },
    {
     "name": "stderr",
     "output_type": "stream",
     "text": [
      "                                                                                \r"
     ]
    }
   ],
   "source": [
    "print(f\"Records: {df.count()}\\nColumns: {len(df.columns)}\")"
   ]
  },
  {
   "cell_type": "code",
   "execution_count": 6,
   "metadata": {},
   "outputs": [
    {
     "name": "stdout",
     "output_type": "stream",
     "text": [
      "root\n",
      " |-- ID: string (nullable = true)\n",
      " |-- Source: string (nullable = true)\n",
      " |-- Severity: integer (nullable = true)\n",
      " |-- Start_Time: timestamp (nullable = true)\n",
      " |-- End_Time: timestamp (nullable = true)\n",
      " |-- Start_Lat: double (nullable = true)\n",
      " |-- Start_Lng: double (nullable = true)\n",
      " |-- End_Lat: double (nullable = true)\n",
      " |-- End_Lng: double (nullable = true)\n",
      " |-- Distance(mi): double (nullable = true)\n",
      " |-- Description: string (nullable = true)\n",
      " |-- Street: string (nullable = true)\n",
      " |-- City: string (nullable = true)\n",
      " |-- County: string (nullable = true)\n",
      " |-- State: string (nullable = true)\n",
      " |-- Zipcode: string (nullable = true)\n",
      " |-- Country: string (nullable = true)\n",
      " |-- Timezone: string (nullable = true)\n",
      " |-- Airport_Code: string (nullable = true)\n",
      " |-- Weather_Timestamp: timestamp (nullable = true)\n",
      " |-- Temperature(F): double (nullable = true)\n",
      " |-- Wind_Chill(F): double (nullable = true)\n",
      " |-- Humidity(%): double (nullable = true)\n",
      " |-- Pressure(in): double (nullable = true)\n",
      " |-- Visibility(mi): double (nullable = true)\n",
      " |-- Wind_Direction: string (nullable = true)\n",
      " |-- Wind_Speed(mph): double (nullable = true)\n",
      " |-- Precipitation(in): double (nullable = true)\n",
      " |-- Weather_Condition: string (nullable = true)\n",
      " |-- Amenity: boolean (nullable = true)\n",
      " |-- Bump: boolean (nullable = true)\n",
      " |-- Crossing: boolean (nullable = true)\n",
      " |-- Give_Way: boolean (nullable = true)\n",
      " |-- Junction: boolean (nullable = true)\n",
      " |-- No_Exit: boolean (nullable = true)\n",
      " |-- Railway: boolean (nullable = true)\n",
      " |-- Roundabout: boolean (nullable = true)\n",
      " |-- Station: boolean (nullable = true)\n",
      " |-- Stop: boolean (nullable = true)\n",
      " |-- Traffic_Calming: boolean (nullable = true)\n",
      " |-- Traffic_Signal: boolean (nullable = true)\n",
      " |-- Turning_Loop: boolean (nullable = true)\n",
      " |-- Sunrise_Sunset: string (nullable = true)\n",
      " |-- Civil_Twilight: string (nullable = true)\n",
      " |-- Nautical_Twilight: string (nullable = true)\n",
      " |-- Astronomical_Twilight: string (nullable = true)\n",
      " |-- Accident_Index: string (nullable = true)\n",
      "\n"
     ]
    }
   ],
   "source": [
    "df.printSchema()"
   ]
  },
  {
   "cell_type": "code",
   "execution_count": 7,
   "metadata": {},
   "outputs": [
    {
     "name": "stderr",
     "output_type": "stream",
     "text": [
      "[Stage 6:=====================================================>   (14 + 1) / 15]\r"
     ]
    },
    {
     "name": "stdout",
     "output_type": "stream",
     "text": [
      "+-------+---------+-------+------------------+-----------------+-----------------+-----------------+------------------+------------------+--------------------+------------------+----------+---------+-------+------------------+-------+----------+------------+------------------+------------------+------------------+------------------+-----------------+--------------+-----------------+--------------------+------------------+--------------+--------------+-----------------+---------------------+--------------+\n",
      "|summary|       ID| Source|          Severity|        Start_Lat|        Start_Lng|          End_Lat|           End_Lng|      Distance(mi)|         Description|            Street|      City|   County|  State|           Zipcode|Country|  Timezone|Airport_Code|    Temperature(F)|     Wind_Chill(F)|       Humidity(%)|      Pressure(in)|   Visibility(mi)|Wind_Direction|  Wind_Speed(mph)|   Precipitation(in)| Weather_Condition|Sunrise_Sunset|Civil_Twilight|Nautical_Twilight|Astronomical_Twilight|Accident_Index|\n",
      "+-------+---------+-------+------------------+-----------------+-----------------+-----------------+------------------+------------------+--------------------+------------------+----------+---------+-------+------------------+-------+----------+------------+------------------+------------------+------------------+------------------+-----------------+--------------+-----------------+--------------------+------------------+--------------+--------------+-----------------+---------------------+--------------+\n",
      "|  count|  4325632|4325632|           4325632|          4325632|          4325632|          4325632|           4325632|           4325632|             4325632|           4316477|   4325441|  4325632|4325632|           4324153|4325632|   4320623|     4309535|           4219489|           3788057|           4213126|           4234269|          4214128|       4205138|          4117819|             3700553|           4217161|       4304061|       4304061|          4304061|              4304061|       4325632|\n",
      "|   mean|     NULL|   NULL|2.1188015993963427|36.26165564664478|-95.7258837864292|36.26182889161993|-95.72557026006868|0.8369140740590076|  1096.6666666666667|60.236363636363635|      NULL|     NULL|   NULL| 57310.25749350082|   NULL|      NULL|        NULL|61.131915570819174|59.060332434279175|63.651511727871416|29.420107347926905|9.085930004973763|          NULL|7.571049358896367|0.006465379633799682|              NULL|          NULL|          NULL|             NULL|                 NULL|      Infinity|\n",
      "| stddev|     NULL|   NULL|0.4535519435741099|5.272744517959783|18.10821241606452|5.272904539384646| 18.10792763629353|1.8330359398608538|   171.9514690030524|117.79768652013055|      NULL|     NULL|   NULL|31661.109828163226|   NULL|      NULL|        NULL|19.338405504485262|22.022871124425418|23.024169272750896|1.1118340323008342|2.657424862128916|          NULL|5.583808456464919| 0.07800933020667535|              NULL|          NULL|          NULL|             NULL|                 NULL|           NaN|\n",
      "|    min|A-3412645|Source1|                 1|        24.566027|      -124.548074|        24.566013|       -124.545748|               0.0|#1 LANE BLKD BY F...|00-199 Midland Ave|Aaronsburg|Abbeville|     AL|             01001|     US|US/Central|        K01M|             -89.0|             -89.0|               1.0|               0.0|              0.0|          CALM|              0.0|                 0.0|      Blowing Dust|           Day|           Day|              Day|                  Day| 200401BS00001|\n",
      "|    max|A-7777761|Source1|                 4|         49.00058|       -67.113167|           49.075|-67.10924200000001|           155.186| VEHICLE CRASH I7...|         and 20 Rd|   Zwingle|  Ziebach|     WY|        99401-9712|     US|US/Pacific|        KZZV|             207.0|             207.0|             100.0|             58.63|            140.0|          West|           1087.0|                24.0|Wintry Mix / Windy|         Night|         Night|            Night|                Night| 2016984133416|\n",
      "+-------+---------+-------+------------------+-----------------+-----------------+-----------------+------------------+------------------+--------------------+------------------+----------+---------+-------+------------------+-------+----------+------------+------------------+------------------+------------------+------------------+-----------------+--------------+-----------------+--------------------+------------------+--------------+--------------+-----------------+---------------------+--------------+\n",
      "\n"
     ]
    },
    {
     "name": "stderr",
     "output_type": "stream",
     "text": [
      "                                                                                \r"
     ]
    }
   ],
   "source": [
    "df.describe().show()"
   ]
  },
  {
   "cell_type": "code",
   "execution_count": 8,
   "metadata": {},
   "outputs": [
    {
     "name": "stderr",
     "output_type": "stream",
     "text": [
      "[Stage 9:=================================================>       (13 + 2) / 15]\r"
     ]
    },
    {
     "name": "stdout",
     "output_type": "stream",
     "text": [
      "+---+------+--------+----------+--------+---------+---------+-------+-------+------------+-----------+------+----+------+-----+-------+-------+--------+------------+-----------------+--------------+-------------+-----------+------------+--------------+--------------+---------------+-----------------+-----------------+-------+----+--------+--------+--------+-------+-------+----------+-------+----+---------------+--------------+------------+--------------+--------------+-----------------+---------------------+--------------+\n",
      "| ID|Source|Severity|Start_Time|End_Time|Start_Lat|Start_Lng|End_Lat|End_Lng|Distance(mi)|Description|Street|City|County|State|Zipcode|Country|Timezone|Airport_Code|Weather_Timestamp|Temperature(F)|Wind_Chill(F)|Humidity(%)|Pressure(in)|Visibility(mi)|Wind_Direction|Wind_Speed(mph)|Precipitation(in)|Weather_Condition|Amenity|Bump|Crossing|Give_Way|Junction|No_Exit|Railway|Roundabout|Station|Stop|Traffic_Calming|Traffic_Signal|Turning_Loop|Sunrise_Sunset|Civil_Twilight|Nautical_Twilight|Astronomical_Twilight|Accident_Index|\n",
      "+---+------+--------+----------+--------+---------+---------+-------+-------+------------+-----------+------+----+------+-----+-------+-------+--------+------------+-----------------+--------------+-------------+-----------+------------+--------------+--------------+---------------+-----------------+-----------------+-------+----+--------+--------+--------+-------+-------+----------+-------+----+---------------+--------------+------------+--------------+--------------+-----------------+---------------------+--------------+\n",
      "|  0|     0|       0|         0|       0|        0|        0|      0|      0|           0|          0|  9155| 191|     0|    0|   1479|      0|    5009|       16097|            79856|        106143|       537575|     112506|       91363|        111504|        120494|         207813|           625079|           108471|      0|   0|       0|       0|       0|      0|      0|         0|      0|   0|              0|             0|           0|         21571|         21571|            21571|                21571|             0|\n",
      "+---+------+--------+----------+--------+---------+---------+-------+-------+------------+-----------+------+----+------+-----+-------+-------+--------+------------+-----------------+--------------+-------------+-----------+------------+--------------+--------------+---------------+-----------------+-----------------+-------+----+--------+--------+--------+-------+-------+----------+-------+----+---------------+--------------+------------+--------------+--------------+-----------------+---------------------+--------------+\n",
      "\n"
     ]
    },
    {
     "name": "stderr",
     "output_type": "stream",
     "text": [
      "                                                                                \r"
     ]
    }
   ],
   "source": [
    "# Check for missing values ​​on each column\n",
    "df.select([F.sum(F.when(F.col(c).isNull(), 1).otherwise(0)).alias(c) for c in df.columns]).show()"
   ]
  },
  {
   "cell_type": "code",
   "execution_count": 4,
   "metadata": {},
   "outputs": [],
   "source": [
    "# Handle column Street\n",
    "df = df.na.drop(subset=[\"Street\"])"
   ]
  },
  {
   "cell_type": "code",
   "execution_count": 5,
   "metadata": {},
   "outputs": [],
   "source": [
    "df = df.na.drop(subset=[\n",
    "    \"City\", \n",
    "    \"Zipcode\", \n",
    "    \"Timezone\", \n",
    "    \"Airport_Code\", \n",
    "    \"Weather_Timestamp\"\n",
    "])"
   ]
  },
  {
   "cell_type": "code",
   "execution_count": 6,
   "metadata": {},
   "outputs": [
    {
     "name": "stderr",
     "output_type": "stream",
     "text": [
      "                                                                                \r"
     ]
    }
   ],
   "source": [
    "# Fill NA for columns\n",
    "df = df.fillna({\n",
    "    \"Temperature(F)\": df.select(F.median(F.when(F.col(\"Temperature(F)\").isNull(), 1).otherwise(0))).collect()[0][0],\n",
    "    \"Wind_Chill(F)\": df.select(F.median(F.when(F.col(\"Wind_Chill(F)\").isNull(), 1).otherwise(0))).collect()[0][0],\n",
    "    \"Humidity(%)\": df.select(F.avg(F.when(F.col(\"Humidity(%)\").isNull(), 1).otherwise(0))).collect()[0][0],\n",
    "    \"Pressure(in)\": df.select(F.avg(F.when(F.col(\"Pressure(in)\").isNull(), 1).otherwise(0))).collect()[0][0],\n",
    "    \"Visibility(mi)\": df.select(F.avg(F.when(F.col(\"Visibility(mi)\").isNull(), 1).otherwise(0))).collect()[0][0],\n",
    "    \"Wind_Direction\": df.select(F.mode(F.when(F.col(\"Wind_Direction\").isNull(), 1).otherwise(0))).collect()[0][0],\n",
    "    \"Wind_Speed(mph)\": df.select(F.avg(F.when(F.col(\"Wind_Speed(mph)\").isNull(), 1).otherwise(0))).collect()[0][0],\n",
    "    \"Precipitation(in)\": df.select(F.avg(F.when(F.col(\"Precipitation(in)\").isNull(), 1).otherwise(0))).collect()[0][0],\n",
    "    \"Weather_Condition\": df.select(F.mode(F.when(F.col(\"Weather_Condition\").isNull(), 1).otherwise(0))).collect()[0][0],\n",
    "})"
   ]
  },
  {
   "cell_type": "code",
   "execution_count": 7,
   "metadata": {},
   "outputs": [],
   "source": [
    "df = df.na.drop(subset=[\n",
    "    \"Sunrise_Sunset\",\n",
    "    \"Civil_Twilight\", \n",
    "    \"Nautical_Twilight\", \n",
    "    \"Astronomical_Twilight\", \n",
    "])"
   ]
  },
  {
   "cell_type": "code",
   "execution_count": 8,
   "metadata": {},
   "outputs": [
    {
     "name": "stderr",
     "output_type": "stream",
     "text": [
      "24/12/10 18:09:04 WARN SparkStringUtils: Truncated the string representation of a plan since it was too large. This behavior can be adjusted by setting 'spark.sql.debug.maxToStringFields'.\n",
      "[Stage 29:================================================>       (13 + 2) / 15]\r"
     ]
    },
    {
     "name": "stdout",
     "output_type": "stream",
     "text": [
      "+---+------+--------+----------+--------+---------+---------+-------+-------+------------+-----------+------+----+------+-----+-------+-------+--------+------------+-----------------+--------------+-------------+-----------+------------+--------------+--------------+---------------+-----------------+-----------------+-------+----+--------+--------+--------+-------+-------+----------+-------+----+---------------+--------------+------------+--------------+--------------+-----------------+---------------------+--------------+\n",
      "| ID|Source|Severity|Start_Time|End_Time|Start_Lat|Start_Lng|End_Lat|End_Lng|Distance(mi)|Description|Street|City|County|State|Zipcode|Country|Timezone|Airport_Code|Weather_Timestamp|Temperature(F)|Wind_Chill(F)|Humidity(%)|Pressure(in)|Visibility(mi)|Wind_Direction|Wind_Speed(mph)|Precipitation(in)|Weather_Condition|Amenity|Bump|Crossing|Give_Way|Junction|No_Exit|Railway|Roundabout|Station|Stop|Traffic_Calming|Traffic_Signal|Turning_Loop|Sunrise_Sunset|Civil_Twilight|Nautical_Twilight|Astronomical_Twilight|Accident_Index|\n",
      "+---+------+--------+----------+--------+---------+---------+-------+-------+------------+-----------+------+----+------+-----+-------+-------+--------+------------+-----------------+--------------+-------------+-----------+------------+--------------+--------------+---------------+-----------------+-----------------+-------+----+--------+--------+--------+-------+-------+----------+-------+----+---------------+--------------+------------+--------------+--------------+-----------------+---------------------+--------------+\n",
      "|  0|     0|       0|         0|       0|        0|        0|      0|      0|           0|          0|     0|   0|     0|    0|      0|      0|       0|           0|                0|             0|            0|          0|           0|             0|             0|              0|                0|                0|      0|   0|       0|       0|       0|      0|      0|         0|      0|   0|              0|             0|           0|             0|             0|                0|                    0|             0|\n",
      "+---+------+--------+----------+--------+---------+---------+-------+-------+------------+-----------+------+----+------+-----+-------+-------+--------+------------+-----------------+--------------+-------------+-----------+------------+--------------+--------------+---------------+-----------------+-----------------+-------+----+--------+--------+--------+-------+-------+----------+-------+----+---------------+--------------+------------+--------------+--------------+-----------------+---------------------+--------------+\n",
      "\n"
     ]
    },
    {
     "name": "stderr",
     "output_type": "stream",
     "text": [
      "                                                                                \r"
     ]
    }
   ],
   "source": [
    "df.select([F.sum(F.when(F.col(c).isNull(), 1).otherwise(0)).alias(c) for c in df.columns]).show()"
   ]
  },
  {
   "cell_type": "code",
   "execution_count": 9,
   "metadata": {},
   "outputs": [
    {
     "name": "stderr",
     "output_type": "stream",
     "text": [
      "[Stage 32:================================================>       (13 + 2) / 15]\r"
     ]
    },
    {
     "name": "stdout",
     "output_type": "stream",
     "text": [
      "Records: 4218038\n",
      "Columns: 47\n"
     ]
    },
    {
     "name": "stderr",
     "output_type": "stream",
     "text": [
      "                                                                                \r"
     ]
    }
   ],
   "source": [
    "print(f\"Records: {df.count()}\\nColumns: {len(df.columns)}\")"
   ]
  },
  {
   "cell_type": "code",
   "execution_count": 11,
   "metadata": {},
   "outputs": [
    {
     "name": "stderr",
     "output_type": "stream",
     "text": [
      "                                                                                \r"
     ]
    }
   ],
   "source": [
    "df.coalesce(1).write.csv(\"/home/longnguyen/Documents/Coding/Fresher-Data-Engineer/DATA-WAREHOUSE-ACCIDENT-US-2016-2023/data/cleaned/US_Accidents_March23_Cleaned.csv\", header=True)"
   ]
  }
 ],
 "metadata": {
  "kernelspec": {
   "display_name": ".dwa-venv",
   "language": "python",
   "name": "python3"
  },
  "language_info": {
   "codemirror_mode": {
    "name": "ipython",
    "version": 3
   },
   "file_extension": ".py",
   "mimetype": "text/x-python",
   "name": "python",
   "nbconvert_exporter": "python",
   "pygments_lexer": "ipython3",
   "version": "3.11.6"
  }
 },
 "nbformat": 4,
 "nbformat_minor": 2
}
